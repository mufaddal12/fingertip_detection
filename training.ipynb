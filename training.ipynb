{
 "cells": [
  {
   "cell_type": "markdown",
   "metadata": {
    "colab_type": "text",
    "id": "Vs96Gp8yQdKS"
   },
   "source": [
    "Preparing dataset like annotations"
   ]
  },
  {
   "cell_type": "code",
   "execution_count": null,
   "metadata": {},
   "outputs": [],
   "source": [
    "import os\n",
    "import json\n",
    "import cv2"
   ]
  },
  {
   "cell_type": "code",
   "execution_count": 0,
   "metadata": {
    "colab": {},
    "colab_type": "code",
    "id": "mk5aj6zOaump"
   },
   "outputs": [],
   "source": [
    "datasetPath = '/content/dataset/'"
   ]
  },
  {
   "cell_type": "code",
   "execution_count": 0,
   "metadata": {
    "colab": {},
    "colab_type": "code",
    "id": "6ej6tX3chZRO"
   },
   "outputs": [],
   "source": [
    "bigstr = '\\n'.join(lines[:4000])\n",
    "o = open(datasetPath + '/train.txt', 'w')\n",
    "o.write(bigstr)\n",
    "o.close()"
   ]
  },
  {
   "cell_type": "code",
   "execution_count": 0,
   "metadata": {
    "colab": {},
    "colab_type": "code",
    "id": "1_OsV2QJNOup"
   },
   "outputs": [],
   "source": [
    "bigstr = '\\n'.join(lines[4000:])\n",
    "o = open(datasetPath + '/test.txt', 'w')\n",
    "o.write(bigstr)\n",
    "o.close()"
   ]
  },
  {
   "cell_type": "code",
   "execution_count": 0,
   "metadata": {
    "colab": {},
    "colab_type": "code",
    "id": "RSSVvNQeNa_F"
   },
   "outputs": [],
   "source": [
    "data = open(datasetPath + '/detector.data', 'w')\n",
    "data.write('classes = 1\\n')\n",
    "data.write('train = ' + datasetPath + 'train.txt\\n')\n",
    "data.write('valid = ' + datasetPath + 'test.txt\\n')\n",
    "data.write('names = ' + datasetPath + 'objects.names\\n')\n",
    "data.write('backup = ' + datasetPath + 'backup/\\n')\n",
    "data.close()"
   ]
  },
  {
   "cell_type": "code",
   "execution_count": 0,
   "metadata": {
    "colab": {},
    "colab_type": "code",
    "id": "1pMnP62DOPQ9"
   },
   "outputs": [],
   "source": [
    "name = open(datasetPath + 'objects.names','w')\n",
    "name.write('Fingertip\\n')\n",
    "name.close()"
   ]
  },
  {
   "cell_type": "markdown",
   "metadata": {
    "colab_type": "text",
    "id": "UNkHqOwiQXbQ"
   },
   "source": [
    "Preparation for training starts here\n",
    "\n",
    "Require yolov3 darknet model from https://github.com/AlexeyAB/darknet\n",
    "\n",
    "\n",
    "Use gpu cudnn and opencv for training so \n",
    "\n",
    "```\n",
    "!sed -i 's/OPENCV=0/OPENCV=1/' Makefile\n",
    "!sed -i 's/GPU=0/GPU=1/' Makefile\n",
    "!sed -i 's/CUDNN=0/CUDNN=1/' Makefile\n",
    "```\n",
    "Then \n",
    "```\n",
    "!make\n",
    "```\n",
    "\n",
    "Download yolov3.weights from https://github.com/AlexeyAB/darknet\n",
    "in darknet directory\n",
    "\n",
    "Get the folder dataset folder from drive to a dataset folder in colab\n",
    "- dataset\n",
    "  - darknet\n",
    "    - this is downloaded repo\n",
    "  - Backup\n",
    "    - empty\n",
    "\n",
    "\n",
    "\n",
    "  - datector.data\n",
    "  - images.zip\n",
    "  - objects.name\n",
    "  - train.txt\n",
    "  - test.txt\n",
    "  - yolov3_custom.cfg \n",
    "  - darknet53.conv.74 from \"http://pjreddie.com/media/files/darknet53.conv.74\"\n",
    "\n",
    "unzip images.zip in same directory\n",
    "\n",
    "Then cd to dataset/darknet and rnu the command\n",
    "\n",
    "\n",
    "```\n",
    "!./darknet detector train /path/to/detector.data /path/to/yolov3_custom.cfg /path/to/darknet53.conv.74 -dont_show\n",
    "```\n",
    "\n",
    "Finally download the trained weights from the Backup folder\n"
   ]
  },
  {
   "cell_type": "code",
   "execution_count": 0,
   "metadata": {
    "colab": {},
    "colab_type": "code",
    "id": "lLLeqqIuG1tI"
   },
   "outputs": [],
   "source": [
    "%cd /content/\n",
    "!mkdir dataset"
   ]
  },
  {
   "cell_type": "code",
   "execution_count": 0,
   "metadata": {
    "colab": {},
    "colab_type": "code",
    "id": "uFFqpwYtudoO"
   },
   "outputs": [],
   "source": [
    "%cd /content/dataset\n",
    "!git clone https://github.com/AlexeyAB/darknet"
   ]
  },
  {
   "cell_type": "code",
   "execution_count": 0,
   "metadata": {
    "cellView": "both",
    "colab": {},
    "colab_type": "code",
    "id": "Roox8uOF0av4"
   },
   "outputs": [],
   "source": [
    "%cd /content/dataset/darknet\n",
    "!sed -i 's/OPENCV=0/OPENCV=1/' Makefile\n",
    "!sed -i 's/GPU=0/GPU=1/' Makefile\n",
    "!sed -i 's/CUDNN=0/CUDNN=1/' Makefile"
   ]
  },
  {
   "cell_type": "code",
   "execution_count": 0,
   "metadata": {
    "cellView": "both",
    "colab": {},
    "colab_type": "code",
    "id": "jbO8FlJIzbUd"
   },
   "outputs": [],
   "source": [
    "%cd /content/dataset/darknet\n",
    "!make"
   ]
  },
  {
   "cell_type": "code",
   "execution_count": 0,
   "metadata": {
    "colab": {},
    "colab_type": "code",
    "id": "nBgreUCt0qXP"
   },
   "outputs": [],
   "source": [
    "%cd /content/dataset/darknet\n",
    "!wget https://pjreddie.com/media/files/yolov3.weights"
   ]
  },
  {
   "cell_type": "code",
   "execution_count": 0,
   "metadata": {
    "colab": {},
    "colab_type": "code",
    "id": "GHLlbmF4o2Ef"
   },
   "outputs": [],
   "source": [
    "%cd /content/dataset/\n",
    "!mkdir Backup"
   ]
  },
  {
   "cell_type": "code",
   "execution_count": 0,
   "metadata": {
    "colab": {},
    "colab_type": "code",
    "id": "vScWCG1SPL9X"
   },
   "outputs": [],
   "source": [
    "cp -r /content/drive/My\\ Drive/dataset/. /content/dataset/"
   ]
  },
  {
   "cell_type": "code",
   "execution_count": 0,
   "metadata": {
    "colab": {},
    "colab_type": "code",
    "id": "Eq65_06yr4iv"
   },
   "outputs": [],
   "source": [
    "%cd /content/dataset\n",
    "!unzip images.zip"
   ]
  },
  {
   "cell_type": "code",
   "execution_count": 0,
   "metadata": {
    "colab": {},
    "colab_type": "code",
    "id": "AUYcmId2ETRJ"
   },
   "outputs": [],
   "source": [
    "%cd /content/dataset/darknet\n",
    "!./darknet detector train /content/dataset/detector.data /content/dataset/yolov3_custom.cfg /content/dataset/darknet53.conv.74 -dont_show"
   ]
  },
  {
   "cell_type": "code",
   "execution_count": 0,
   "metadata": {
    "colab": {},
    "colab_type": "code",
    "id": "Ev2Pbl7bEbIj"
   },
   "outputs": [],
   "source": [
    "cp -r /content/dataset/Backup/. /content/drive/My\\ Drive/dataset/Backup/"
   ]
  }
 ],
 "metadata": {
  "colab": {
   "collapsed_sections": [],
   "name": "fingerTipDetection.ipynb",
   "provenance": []
  },
  "kernelspec": {
   "display_name": "Python 3",
   "language": "python",
   "name": "python3"
  },
  "language_info": {
   "codemirror_mode": {
    "name": "ipython",
    "version": 3
   },
   "file_extension": ".py",
   "mimetype": "text/x-python",
   "name": "python",
   "nbconvert_exporter": "python",
   "pygments_lexer": "ipython3",
   "version": "3.7.4"
  }
 },
 "nbformat": 4,
 "nbformat_minor": 1
}
