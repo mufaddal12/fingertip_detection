{
 "cells": [
  {
   "cell_type": "code",
   "execution_count": null,
   "metadata": {},
   "outputs": [],
   "source": [
    "import cv2\n",
    "from hand_tracker import HandTracker\n",
    "import os\n",
    "import json"
   ]
  },
  {
   "cell_type": "code",
   "execution_count": null,
   "metadata": {},
   "outputs": [],
   "source": [
    "WINDOW = \"Hand Tracking\"\n",
    "PALM_MODEL_PATH = \"./palm_detection_without_custom_op.tflite\"\n",
    "LANDMARK_MODEL_PATH = \"./hand_landmark.tflite\"\n",
    "ANCHORS_PATH = \"./anchors.csv\"\n",
    "\n",
    "POINT_COLOR = (0, 255, 0)\n",
    "CONNECTION_COLOR = (255, 0, 0)\n",
    "THICKNESS = 2"
   ]
  },
  {
   "cell_type": "code",
   "execution_count": null,
   "metadata": {},
   "outputs": [],
   "source": [
    "detector = HandTracker(\n",
    "    PALM_MODEL_PATH,\n",
    "    LANDMARK_MODEL_PATH,\n",
    "    ANCHORS_PATH,\n",
    "    box_shift=0.2,\n",
    "    box_enlarge=1.3\n",
    ")"
   ]
  },
  {
   "cell_type": "code",
   "execution_count": null,
   "metadata": {},
   "outputs": [],
   "source": [
    "def saveImage(frame, count):\n",
    "    to = \"./dataset/images/\"\n",
    "    name = str(count)\n",
    "    name = name.rjust(5, '0')\n",
    "    name += '.jpg'\n",
    "    print(name)\n",
    "    count += 1\n",
    "    cv2.imwrite(to+name, frame)\n",
    "    return count, name"
   ]
  },
  {
   "cell_type": "code",
   "execution_count": null,
   "metadata": {},
   "outputs": [],
   "source": [
    "#        8   12  16  20\n",
    "#        |   |   |   |\n",
    "#        7   11  15  19\n",
    "#    4   |   |   |   |\n",
    "#    |   6   10  14  18\n",
    "#    3   |   |   |   |\n",
    "#    |   5---9---13--17\n",
    "#    2    \\         /\n",
    "#     \\    \\       /\n",
    "#      1    \\     /\n",
    "#       \\    \\   /\n",
    "#        ------0-\n",
    "\n",
    "tips = [4, 8, 12, 16, 20]"
   ]
  },
  {
   "cell_type": "code",
   "execution_count": null,
   "metadata": {
    "scrolled": true
   },
   "outputs": [],
   "source": [
    "def makeDataset():\n",
    "    k = 0\n",
    "    cv2.namedWindow(WINDOW)\n",
    "    capture = cv2.VideoCapture(0)\n",
    "\n",
    "    if capture.isOpened():\n",
    "        hasFrame, frame = capture.read()\n",
    "    else:\n",
    "        hasFrame = False\n",
    "    while hasFrame:\n",
    "        image = cv2.cvtColor(frame, cv2.COLOR_BGR2RGB)\n",
    "        points, _ = detector(image)\n",
    "\n",
    "        dispFrame = frame.copy()\n",
    "        label = []\n",
    "        if points is not None:\n",
    "            k += 1\n",
    "            for i in tips:\n",
    "                x, y = points[i]\n",
    "                x = int(x)\n",
    "                y = int(y)\n",
    "                label.append((x, y))\n",
    "                cv2.circle(dispFrame, (x, y), THICKNESS *\n",
    "                           2, POINT_COLOR, THICKNESS)\n",
    "\n",
    "\n",
    "        cv2.imshow(WINDOW, dispFrame)\n",
    "        if points is not None:\n",
    "            name = 'aa'\n",
    "            count, name = saveImage(frame, count)\n",
    "            writeToJson(name, label)\n",
    "        hasFrame, frame = capture.read()\n",
    "        key = cv2.waitKey(20)\n",
    "        if k == 3:\n",
    "            break\n",
    "        if key == 113:\n",
    "            break\n",
    "    capture.release()\n",
    "    cv2.destroyAllWindows()"
   ]
  },
  {
   "cell_type": "code",
   "execution_count": null,
   "metadata": {},
   "outputs": [],
   "source": [
    "labelName = \"./dataset/floatLabels.json\"\n",
    "newobj = json.dumps(newlabels, indent=4)\n",
    "with open(labelName, \"w\") as outfile:\n",
    "    outfile.write(newobj)"
   ]
  },
  {
   "cell_type": "code",
   "execution_count": null,
   "metadata": {},
   "outputs": [],
   "source": [
    "datasetPath = '/home/mufaddal/Mufaddal/Programs/CNN_learning/hand_tracking/dataset/'"
   ]
  },
  {
   "cell_type": "code",
   "execution_count": null,
   "metadata": {},
   "outputs": [],
   "source": [
    "import json\n",
    "import cv2\n",
    "import os\n",
    "import numpy as np"
   ]
  },
  {
   "cell_type": "code",
   "execution_count": null,
   "metadata": {},
   "outputs": [],
   "source": [
    "def getImageNames(path):\n",
    "    imageNameList = []\n",
    "    for r,_,f in os.walk(path):\n",
    "        for imgName in f:\n",
    "           if imgName.endswith(\".jpg\"):\n",
    "              imageNameList.append(imgName)\n",
    "    return sorted(imageNameList)"
   ]
  },
  {
   "cell_type": "code",
   "execution_count": null,
   "metadata": {},
   "outputs": [],
   "source": [
    "def randomizeDataset(path):\n",
    "    floatLabelPath = path + 'floatLabels.json'\n",
    "    intLabelPath = path + 'labels.json'\n",
    "    imagePath = path + 'images/'\n",
    "    \n",
    "    labels = json.load(open(intLabelPath, 'r'))\n",
    "    \n",
    "    imageNameList = getImageNames(imagePath)\n",
    "    repList = []\n",
    "    for i in range(1000):\n",
    "        index1 = np.random.randint(int(4100))\n",
    "        index2 = np.random.randint(int(4100))\n",
    "        \n",
    "        i1path = imagePath+imageNameList[index1]\n",
    "        i2path = imagePath+imageNameList[index2]\n",
    "        repList.append((imageNameList[index1], imageNameList[index2]))\n",
    "        img1 = cv2.imread(i1path)\n",
    "        img2 = cv2.imread(i2path)\n",
    "        \n",
    "        #img1, img2 = img2, img1\n",
    "        \n",
    "        label1 = labels[imageNameList[index1]]\n",
    "        label2 = labels[imageNameList[index2]]\n",
    "        \n",
    "        #label1, label2 = label2, label1\n",
    "        \n",
    "        labels[imageNameList[index1]] = label1\n",
    "        labels[imageNameList[index2]] = label2\n",
    "        \n",
    "        #os.remove(i1path)\n",
    "        #os.remove(i2path)\n",
    "        \n",
    "        #cv2.imwrite(i1path, img1)\n",
    "        #cv2.imwrite(i2path, img2)\n",
    "        \n",
    "   \n",
    "    #newobj = json.dumps(labels, indent=4)\n",
    "    #with open(intLabelPath, \"w\") as outfile:\n",
    "        #outfile.write(newobj)\n",
    "    return repList"
   ]
  },
  {
   "cell_type": "code",
   "execution_count": null,
   "metadata": {},
   "outputs": [],
   "source": [
    "def saveJson(path, jsonData):\n",
    "    newobj = json.dumps(jsonData, indent=4)\n",
    "    with open(path, \"w\") as outfile:\n",
    "        outfile.write(newobj)"
   ]
  },
  {
   "cell_type": "code",
   "execution_count": null,
   "metadata": {},
   "outputs": [],
   "source": [
    "img_row = 480\n",
    "img_col = 640"
   ]
  },
  {
   "cell_type": "code",
   "execution_count": null,
   "metadata": {},
   "outputs": [],
   "source": [
    "def makeFloatLabels(path):\n",
    "    intLabelPath = path+ 'labels.json'\n",
    "    floatLabelPath = path + 'floatLabels.json'\n",
    "    intLabel = json.load(open(intLabelPath, 'r'))\n",
    "    floatLabel = {}\n",
    "    for label in intLabel:\n",
    "        #print(label)\n",
    "        #print(intLabel[label])\n",
    "        nlabel = []\n",
    "        for box in intLabel[label]:\n",
    "            x,y = box\n",
    "            x = float(x/img_col)\n",
    "            y = float(y/img_row)\n",
    "            if x>=0 and x<=1 and y>= 0 and y<=1:\n",
    "                nlabel.append((x,y))\n",
    "            else:\n",
    "                print(label, x,y)\n",
    "            #print(x, y)\n",
    "        floatLabel[label] = nlabel\n",
    "    saveJson(floatLabelPath, floatLabel)"
   ]
  },
  {
   "cell_type": "code",
   "execution_count": null,
   "metadata": {},
   "outputs": [],
   "source": [
    "makeFloatLabels(datasetPath)"
   ]
  },
  {
   "cell_type": "code",
   "execution_count": null,
   "metadata": {},
   "outputs": [],
   "source": [
    "def makeFile(path):\n",
    "    labelPath = path + 'floatLabels.json'\n",
    "    imagePath = path + 'images/'\n",
    "    \n",
    "    ht = float(35/img_row)\n",
    "    wd = float(35/img_col)\n",
    "    \n",
    "    imageNameList = getImageNames(imagePath)\n",
    "    labels = json.load(open(labelPath, 'r'))\n",
    "    paths = []\n",
    "    print(labels)\n",
    "    for name in imageNameList:\n",
    "        label = ''\n",
    "        imgpath = imagePath + name\n",
    "        \n",
    "        if name in labels.keys():\n",
    "            paths.append(imgpath)\n",
    "            points = labels[name]\n",
    "            for point in points:\n",
    "                x,y = point\n",
    "                #print(x,y)\n",
    "                x = str(x)\n",
    "                y = str(y)\n",
    "                label += (' '.join(['0', x, y, str(ht), str(wd)]))\n",
    "                label += '\\n'\n",
    "            imgpath = imgpath.split('.')[0] + '.txt'\n",
    "            print(imgpath)\n",
    "            imglabel = open(imgpath, 'w')\n",
    "            imglabel.write(label)\n",
    "            imglabel.close()\n",
    "    return paths"
   ]
  },
  {
   "cell_type": "code",
   "execution_count": null,
   "metadata": {},
   "outputs": [],
   "source": [
    "lines = makeFile(datasetPath)"
   ]
  },
  {
   "cell_type": "code",
   "execution_count": null,
   "metadata": {},
   "outputs": [],
   "source": [
    "import os\n",
    "import json\n",
    "import cv2"
   ]
  },
  {
   "cell_type": "code",
   "execution_count": null,
   "metadata": {},
   "outputs": [],
   "source": [
    "datasetPath = '/content/dataset/'"
   ]
  },
  {
   "cell_type": "code",
   "execution_count": null,
   "metadata": {},
   "outputs": [],
   "source": [
    "img_row = 480\n",
    "img_col = 640"
   ]
  },
  {
   "cell_type": "code",
   "execution_count": null,
   "metadata": {},
   "outputs": [],
   "source": [
    "def getImageNames(path):\n",
    "    imageNameList = []\n",
    "    for r,_,f in os.walk(path):\n",
    "        for imgName in f:\n",
    "           if imgName.endswith(\".jpg\"):\n",
    "              imageNameList.append(imgName)\n",
    "    return sorted(imageNameList)"
   ]
  },
  {
   "cell_type": "code",
   "execution_count": null,
   "metadata": {},
   "outputs": [],
   "source": [
    "from google.colab import drive\n",
    "drive.mount('/content/drive')"
   ]
  },
  {
   "cell_type": "code",
   "execution_count": null,
   "metadata": {},
   "outputs": [],
   "source": [
    "def saveJson(path, jsonData):\n",
    "    newobj = json.dumps(jsonData, indent=4)\n",
    "    with open(path, \"w\") as outfile:\n",
    "        outfile.write(newobj)"
   ]
  },
  {
   "cell_type": "code",
   "execution_count": null,
   "metadata": {},
   "outputs": [],
   "source": [
    "def makeFloatLabels(path):\n",
    "    intLabelPath = path+ 'labels.json'\n",
    "    floatLabelPath = path + 'floatLabels.json'\n",
    "    intLabel = json.load(open(intLabelPath, 'r'))\n",
    "    floatLabel = {}\n",
    "    for label in intLabel:\n",
    "        #print(label)\n",
    "        #print(intLabel[label])\n",
    "        nlabel = []\n",
    "        for box in intLabel[label]:\n",
    "            x,y = box\n",
    "            x = float(x/img_col)\n",
    "            y = float(y/img_row)\n",
    "            if x>=0 and x<=1 and y>= 0 and y<=1:\n",
    "                nlabel.append((x,y))\n",
    "            else:\n",
    "                print(label, x,y)\n",
    "            #print(x, y)\n",
    "        floatLabel[label] = nlabel\n",
    "    saveJson(floatLabelPath, floatLabel)"
   ]
  },
  {
   "cell_type": "code",
   "execution_count": null,
   "metadata": {},
   "outputs": [],
   "source": [
    "def makeFiles(path):\n",
    "    labelPath = path + 'floatLabels.json'\n",
    "    imagePath = path + 'images/'\n",
    "    \n",
    "    ht = float(35/img_row)\n",
    "    wd = float(35/img_col)\n",
    "    \n",
    "    imageNameList = getImageNames(imagePath)\n",
    "    labels = json.load(open(labelPath, 'r'))\n",
    "    paths = []\n",
    "    print(labels)\n",
    "    for name in imageNameList:\n",
    "        label = ''\n",
    "        imgpath = imagePath + name\n",
    "        \n",
    "        if name in labels.keys():\n",
    "            paths.append(imgpath)\n",
    "            points = labels[name]\n",
    "            for point in points:\n",
    "                x,y = point\n",
    "                #print(x,y)\n",
    "                x = str(x)\n",
    "                y = str(y)\n",
    "                label += (' '.join(['0', x, y, str(ht), str(wd)]))\n",
    "                label += '\\n'\n",
    "            imgpath = imgpath.split('.')[0] + '.txt'\n",
    "            print(imgpath)\n",
    "            imglabel = open(imgpath, 'w')\n",
    "            imglabel.write(label)\n",
    "            imglabel.close()\n",
    "    return paths"
   ]
  },
  {
   "cell_type": "code",
   "execution_count": null,
   "metadata": {},
   "outputs": [],
   "source": [
    "lines = makeFiles(datasetPath)"
   ]
  },
  {
   "cell_type": "code",
   "execution_count": null,
   "metadata": {},
   "outputs": [],
   "source": []
  }
 ],
 "metadata": {
  "kernelspec": {
   "display_name": "Python 3",
   "language": "python",
   "name": "python3"
  },
  "language_info": {
   "codemirror_mode": {
    "name": "ipython",
    "version": 3
   },
   "file_extension": ".py",
   "mimetype": "text/x-python",
   "name": "python",
   "nbconvert_exporter": "python",
   "pygments_lexer": "ipython3",
   "version": "3.7.4"
  }
 },
 "nbformat": 4,
 "nbformat_minor": 2
}
